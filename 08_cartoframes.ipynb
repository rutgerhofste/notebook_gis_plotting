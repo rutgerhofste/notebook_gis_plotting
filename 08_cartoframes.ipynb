{
  "nbformat": 4,
  "nbformat_minor": 0,
  "metadata": {
    "colab": {
      "name": "08_cartoframes.ipynb",
      "version": "0.3.2",
      "provenance": [],
      "include_colab_link": true
    },
    "kernelspec": {
      "name": "python3",
      "display_name": "Python 3"
    }
  },
  "cells": [
    {
      "cell_type": "markdown",
      "metadata": {
        "id": "view-in-github",
        "colab_type": "text"
      },
      "source": [
        "[View in Colaboratory](https://colab.research.google.com/github/rutgerhofste/notebook_gis_plotting/blob/master/08_cartoframes.ipynb)"
      ]
    },
    {
      "metadata": {
        "id": "Kgp6FsKS7bx9",
        "colab_type": "code",
        "colab": {}
      },
      "cell_type": "code",
      "source": [
        "# Popups not yet supported. Currently in contrib but fails to load. Putting on hold for now."
      ],
      "execution_count": 0,
      "outputs": []
    },
    {
      "metadata": {
        "id": "HoM2od6PtuJ1",
        "colab_type": "code",
        "colab": {
          "base_uri": "https://localhost:8080/",
          "height": 1156
        },
        "outputId": "321cb337-1627-4282-e5b3-b5ecc6407b8a"
      },
      "cell_type": "code",
      "source": [
        "!pip install --upgrade cartoframes"
      ],
      "execution_count": 2,
      "outputs": [
        {
          "output_type": "stream",
          "text": [
            "Collecting cartoframes\n",
            "\u001b[?25l  Downloading https://files.pythonhosted.org/packages/d0/e8/379fe8ac338e3306dcf04f68e9cbe953824c73a909ff5962c41717d6eb43/cartoframes-0.7.1-py2.py3-none-any.whl (58kB)\n",
            "\u001b[K    100% |████████████████████████████████| 61kB 2.2MB/s \n",
            "\u001b[?25hCollecting carto>=1.1.0 (from cartoframes)\n",
            "  Downloading https://files.pythonhosted.org/packages/3d/42/3a5eb872271ce56f12d70faae9ac1ba629b932c25c9bf80a9dd3a77ac459/carto-1.2.2.tar.gz\n",
            "Collecting appdirs>=1.4.3 (from cartoframes)\n",
            "  Downloading https://files.pythonhosted.org/packages/56/eb/810e700ed1349edde4cbdc1b2a21e28cdf115f9faf263f6bbf8447c1abf3/appdirs-1.4.3-py2.py3-none-any.whl\n",
            "Collecting IPython>=6.0.0; python_version >= \"3.4\" (from cartoframes)\n",
            "\u001b[?25l  Downloading https://files.pythonhosted.org/packages/b1/7f/91d50f28af3e3a24342561983a7857e399ce24093876e6970b986a0b6677/ipython-6.4.0-py3-none-any.whl (750kB)\n",
            "\u001b[K    100% |████████████████████████████████| 757kB 10.7MB/s \n",
            "\u001b[?25hRequirement not upgraded as not directly required: pandas>=0.20.1 in /usr/local/lib/python3.6/dist-packages (from cartoframes) (0.22.0)\n",
            "Collecting tqdm!=4.18.0,>=4.14.0 (from cartoframes)\n",
            "\u001b[?25l  Downloading https://files.pythonhosted.org/packages/93/24/6ab1df969db228aed36a648a8959d1027099ce45fad67532b9673d533318/tqdm-4.23.4-py2.py3-none-any.whl (42kB)\n",
            "\u001b[K    100% |████████████████████████████████| 51kB 13.2MB/s \n",
            "\u001b[?25hCollecting webcolors>=1.7.0 (from cartoframes)\n",
            "  Downloading https://files.pythonhosted.org/packages/1d/44/c4902683be73beba20afd299705e11f0a753a01cc7f9d6a070841848605b/webcolors-1.8.1-py2.py3-none-any.whl\n",
            "Requirement not upgraded as not directly required: requests>=2.7.0 in /usr/local/lib/python3.6/dist-packages (from carto>=1.1.0->cartoframes) (2.18.4)\n",
            "Collecting pyrestcli>=0.6.4 (from carto>=1.1.0->cartoframes)\n",
            "  Downloading https://files.pythonhosted.org/packages/48/bc/a0aeb1c5fd833d88b83d5e1046b39d58ad043c87b86fddd24e0b9fc2475c/pyrestcli-0.6.6.tar.gz\n",
            "Requirement not upgraded as not directly required: prompt-toolkit<2.0.0,>=1.0.15 in /usr/local/lib/python3.6/dist-packages (from IPython>=6.0.0; python_version >= \"3.4\"->cartoframes) (1.0.15)\n",
            "Requirement not upgraded as not directly required: pygments in /usr/local/lib/python3.6/dist-packages (from IPython>=6.0.0; python_version >= \"3.4\"->cartoframes) (2.1.3)\n",
            "Requirement not upgraded as not directly required: pexpect; sys_platform != \"win32\" in /usr/local/lib/python3.6/dist-packages (from IPython>=6.0.0; python_version >= \"3.4\"->cartoframes) (4.6.0)\n",
            "Requirement not upgraded as not directly required: pickleshare in /usr/local/lib/python3.6/dist-packages (from IPython>=6.0.0; python_version >= \"3.4\"->cartoframes) (0.7.4)\n",
            "Requirement not upgraded as not directly required: traitlets>=4.2 in /usr/local/lib/python3.6/dist-packages (from IPython>=6.0.0; python_version >= \"3.4\"->cartoframes) (4.3.2)\n",
            "Collecting backcall (from IPython>=6.0.0; python_version >= \"3.4\"->cartoframes)\n",
            "  Downloading https://files.pythonhosted.org/packages/84/71/c8ca4f5bb1e08401b916c68003acf0a0655df935d74d93bf3f3364b310e0/backcall-0.1.0.tar.gz\n",
            "Requirement not upgraded as not directly required: setuptools>=18.5 in /usr/local/lib/python3.6/dist-packages (from IPython>=6.0.0; python_version >= \"3.4\"->cartoframes) (39.1.0)\n",
            "Collecting jedi>=0.10 (from IPython>=6.0.0; python_version >= \"3.4\"->cartoframes)\n",
            "\u001b[?25l  Downloading https://files.pythonhosted.org/packages/3d/68/8bbf0ef969095a13ba0d4c77c1945bd86e9811960d052510551d29a2f23b/jedi-0.12.1-py2.py3-none-any.whl (174kB)\n",
            "\u001b[K    100% |████████████████████████████████| 184kB 8.4MB/s \n",
            "\u001b[?25hRequirement not upgraded as not directly required: simplegeneric>0.8 in /usr/local/lib/python3.6/dist-packages (from IPython>=6.0.0; python_version >= \"3.4\"->cartoframes) (0.8.1)\n",
            "Requirement not upgraded as not directly required: decorator in /usr/local/lib/python3.6/dist-packages (from IPython>=6.0.0; python_version >= \"3.4\"->cartoframes) (4.3.0)\n",
            "Requirement not upgraded as not directly required: python-dateutil>=2 in /usr/local/lib/python3.6/dist-packages (from pandas>=0.20.1->cartoframes) (2.5.3)\n",
            "Requirement not upgraded as not directly required: numpy>=1.9.0 in /usr/local/lib/python3.6/dist-packages (from pandas>=0.20.1->cartoframes) (1.14.5)\n",
            "Requirement not upgraded as not directly required: pytz>=2011k in /usr/local/lib/python3.6/dist-packages (from pandas>=0.20.1->cartoframes) (2018.5)\n",
            "Requirement not upgraded as not directly required: chardet<3.1.0,>=3.0.2 in /usr/local/lib/python3.6/dist-packages (from requests>=2.7.0->carto>=1.1.0->cartoframes) (3.0.4)\n",
            "Requirement not upgraded as not directly required: idna<2.7,>=2.5 in /usr/local/lib/python3.6/dist-packages (from requests>=2.7.0->carto>=1.1.0->cartoframes) (2.6)\n",
            "Requirement not upgraded as not directly required: urllib3<1.23,>=1.21.1 in /usr/local/lib/python3.6/dist-packages (from requests>=2.7.0->carto>=1.1.0->cartoframes) (1.22)\n",
            "Requirement not upgraded as not directly required: certifi>=2017.4.17 in /usr/local/lib/python3.6/dist-packages (from requests>=2.7.0->carto>=1.1.0->cartoframes) (2018.4.16)\n",
            "Collecting future==0.15.2 (from pyrestcli>=0.6.4->carto>=1.1.0->cartoframes)\n",
            "\u001b[?25l  Downloading https://files.pythonhosted.org/packages/5a/f4/99abde815842bc6e97d5a7806ad51236630da14ca2f3b1fce94c0bb94d3d/future-0.15.2.tar.gz (1.6MB)\n",
            "\u001b[K    100% |████████████████████████████████| 1.6MB 7.5MB/s \n",
            "\u001b[?25hRequirement not upgraded as not directly required: six>=1.9.0 in /usr/local/lib/python3.6/dist-packages (from prompt-toolkit<2.0.0,>=1.0.15->IPython>=6.0.0; python_version >= \"3.4\"->cartoframes) (1.11.0)\n",
            "Requirement not upgraded as not directly required: wcwidth in /usr/local/lib/python3.6/dist-packages (from prompt-toolkit<2.0.0,>=1.0.15->IPython>=6.0.0; python_version >= \"3.4\"->cartoframes) (0.1.7)\n",
            "Requirement not upgraded as not directly required: ptyprocess>=0.5 in /usr/local/lib/python3.6/dist-packages (from pexpect; sys_platform != \"win32\"->IPython>=6.0.0; python_version >= \"3.4\"->cartoframes) (0.6.0)\n",
            "Requirement not upgraded as not directly required: ipython-genutils in /usr/local/lib/python3.6/dist-packages (from traitlets>=4.2->IPython>=6.0.0; python_version >= \"3.4\"->cartoframes) (0.2.0)\n",
            "Collecting parso>=0.3.0 (from jedi>=0.10->IPython>=6.0.0; python_version >= \"3.4\"->cartoframes)\n",
            "\u001b[?25l  Downloading https://files.pythonhosted.org/packages/09/51/9c48a46334be50c13d25a3afe55fa05c445699304c5ad32619de953a2305/parso-0.3.1-py2.py3-none-any.whl (88kB)\n",
            "\u001b[K    100% |████████████████████████████████| 92kB 19.0MB/s \n",
            "\u001b[?25hBuilding wheels for collected packages: carto, pyrestcli, backcall, future\n",
            "  Running setup.py bdist_wheel for carto ... \u001b[?25l-\b \bdone\n",
            "\u001b[?25h  Stored in directory: /content/.cache/pip/wheels/94/d3/27/40abad77cd427d38e4896aec17644470469145ddb7bec26638\n"
          ],
          "name": "stdout"
        },
        {
          "output_type": "stream",
          "text": [
            "  Running setup.py bdist_wheel for pyrestcli ... \u001b[?25l-\b \bdone\n",
            "\u001b[?25h  Stored in directory: /content/.cache/pip/wheels/72/14/0d/f91020a3d22c1a5fc48f066b9f693515d9aa73b411ab9df3b9\n",
            "  Running setup.py bdist_wheel for backcall ... \u001b[?25l-\b \bdone\n",
            "\u001b[?25h  Stored in directory: /content/.cache/pip/wheels/98/b0/dd/29e28ff615af3dda4c67cab719dd51357597eabff926976b45\n",
            "  Running setup.py bdist_wheel for future ... \u001b[?25l-\b \b\\\b \b|\b \b/\b \bdone\n",
            "\u001b[?25h  Stored in directory: /content/.cache/pip/wheels/11/25/4b/f1c5582c5dc7ace5998bced1042cdf6bfe03983a10ed3f2f2e\n",
            "Successfully built carto pyrestcli backcall future\n",
            "Installing collected packages: future, pyrestcli, carto, appdirs, backcall, parso, jedi, IPython, tqdm, webcolors, cartoframes\n",
            "  Found existing installation: future 0.16.0\n",
            "    Uninstalling future-0.16.0:\n",
            "      Successfully uninstalled future-0.16.0\n",
            "  Found existing installation: ipython 5.5.0\n",
            "    Uninstalling ipython-5.5.0:\n",
            "      Successfully uninstalled ipython-5.5.0\n",
            "Successfully installed IPython-6.4.0 appdirs-1.4.3 backcall-0.1.0 carto-1.2.2 cartoframes-0.7.1 future-0.15.2 jedi-0.12.1 parso-0.3.1 pyrestcli-0.6.6 tqdm-4.23.4 webcolors-1.8.1\n"
          ],
          "name": "stdout"
        }
      ]
    },
    {
      "metadata": {
        "id": "hcj1oZ9x3vNQ",
        "colab_type": "code",
        "colab": {
          "base_uri": "https://localhost:8080/",
          "height": 51
        },
        "outputId": "6c45ef27-5566-4eec-c1cb-f8fa754713ad"
      },
      "cell_type": "code",
      "source": [
        "import sys\n",
        "print(sys.version)"
      ],
      "execution_count": 3,
      "outputs": [
        {
          "output_type": "stream",
          "text": [
            "3.6.3 (default, Oct  3 2017, 21:45:48) \n",
            "[GCC 7.2.0]\n"
          ],
          "name": "stdout"
        }
      ]
    },
    {
      "metadata": {
        "id": "BpzIsCiluSlk",
        "colab_type": "code",
        "colab": {}
      },
      "cell_type": "code",
      "source": [
        "import getpass\n",
        "from cartoframes import CartoContext\n",
        "from cartoframes import Credentials\n",
        "from cartoframes.contrib import vector\n"
      ],
      "execution_count": 0,
      "outputs": []
    },
    {
      "metadata": {
        "id": "lWAZaSeUu98o",
        "colab_type": "code",
        "colab": {}
      },
      "cell_type": "code",
      "source": [
        "username = \"wri-01\""
      ],
      "execution_count": 0,
      "outputs": []
    },
    {
      "metadata": {
        "id": "QEibpVIEvX-o",
        "colab_type": "code",
        "colab": {
          "base_uri": "https://localhost:8080/",
          "height": 34
        },
        "outputId": "c00ddf0b-628f-4794-e32d-e3883fd25ede"
      },
      "cell_type": "code",
      "source": [
        "api_key = getpass.getpass()"
      ],
      "execution_count": 6,
      "outputs": [
        {
          "output_type": "stream",
          "text": [
            "··········\n"
          ],
          "name": "stdout"
        }
      ]
    },
    {
      "metadata": {
        "id": "rZjfyqBSxqm7",
        "colab_type": "code",
        "colab": {}
      },
      "cell_type": "code",
      "source": [
        "creds = Credentials(username=username, \n",
        "                    key=api_key)"
      ],
      "execution_count": 0,
      "outputs": []
    },
    {
      "metadata": {
        "id": "gwEiMpfpvaGw",
        "colab_type": "code",
        "colab": {}
      },
      "cell_type": "code",
      "source": [
        "cc = CartoContext(creds=creds)"
      ],
      "execution_count": 0,
      "outputs": []
    },
    {
      "metadata": {
        "id": "scer4YE77Anj",
        "colab_type": "code",
        "colab": {}
      },
      "cell_type": "code",
      "source": [
        "layer_name = \"gadm36_adm2\""
      ],
      "execution_count": 0,
      "outputs": []
    },
    {
      "metadata": {
        "id": "swYOs6_RO7SZ",
        "colab_type": "code",
        "colab": {
          "base_uri": "https://localhost:8080/",
          "height": 425
        },
        "outputId": "051b826f-466e-496c-e2bd-d8e5a4c1a111"
      },
      "cell_type": "code",
      "source": [
        "vector.vmap([vector.Layer(layer_name,\n",
        "                          color = \"#F24440\",\n",
        "                          interactivity=['area',\"gid_0\"]), ], context=cc)"
      ],
      "execution_count": 14,
      "outputs": [
        {
          "output_type": "execute_result",
          "data": {
            "text/html": [
              "<iframe srcdoc=\"<!DOCTYPE html>\n",
              "<html>\n",
              "<head>\n",
              "  <title>CARTO VL + CARTOframes</title>\n",
              "  <meta name=&quot;viewport&quot; content=&quot;width=device-width, initial-scale=1.0&quot;>\n",
              "  <meta charset=&quot;UTF-8&quot;>\n",
              "  <!-- Include CARTO VL JS -->\n",
              "  <script src=&quot;https://cartodb.github.io/carto-vl/dist/carto-vl.js&quot;></script>\n",
              "  <!-- Include Mapbox GL JS -->\n",
              "  <script src=&quot;https://cartodb-libs.global.ssl.fastly.net/mapbox-gl/v0.45.0-carto1/mapbox-gl.js&quot;></script>\n",
              "  <!-- Include Mapbox GL CSS -->\n",
              "  <link href=&quot;https://cartodb-libs.global.ssl.fastly.net/mapbox-gl/v0.45.0-carto1/mapbox-gl.css&quot; rel=&quot;stylesheet&quot; />\n",
              "  <link rel=&quot;stylesheet&quot; type=&quot;text/css&quot; href=&quot;https://cartodb.github.io/carto-vl/examples/style.css&quot;>\n",
              "  <style>\n",
              "    body {\n",
              "      margin: 0;\n",
              "      padding: 0;\n",
              "    }\n",
              "    #map {\n",
              "      position: absolute;\n",
              "      height: 100%;\n",
              "      width: 100%;\n",
              "    }\n",
              "  </style>\n",
              "</head>\n",
              "<body>\n",
              "  <div id=&quot;map&quot;></div>\n",
              "  <script>\n",
              "    const BASEMAPS = {\n",
              "        DarkMatter: 'https://basemaps.cartocdn.com/gl/dark-matter-gl-style/style.json',\n",
              "        Voyager: 'https://basemaps.cartocdn.com/gl/voyager-gl-style/style.json',\n",
              "        Positron: 'https://basemaps.cartocdn.com/gl/positron-gl-style/style.json',\n",
              "    };\n",
              "    const map = new mapboxgl.Map({\n",
              "      container: 'map',\n",
              "      style: BASEMAPS['DarkMatter'] || BASEMAPS['Voyager'],\n",
              "      zoom: 9,\n",
              "      dragRotate: false\n",
              "      });\n",
              "\n",
              "    let credentials = {&quot;user&quot;: &quot;wri-01&quot;, &quot;api_key&quot;: &quot;0e5365cb1a299778e9df9c7bf6db489af8aa08e1&quot;};\n",
              "    carto.setDefaultAuth({\n",
              "      user: credentials['user'],\n",
              "      apiKey: credentials['api_key'] || 'default_public'\n",
              "    });\n",
              "    var sources = [{&quot;is_local&quot;: false, &quot;styling&quot;: &quot;@area: $area\\n@gid_0: $gid_0\\ncolor: #F24440&quot;, &quot;source&quot;: &quot;SELECT * FROM gadm36_adm2&quot;, &quot;interactivity&quot;: {&quot;event&quot;: &quot;hover&quot;, &quot;header&quot;: null}}];\n",
              "\n",
              "    map.fitBounds([[-180, -55.98402786], [180, 83.11042023]], {animate: false});\n",
              "\n",
              "    sources.forEach((elem, idx) => {\n",
              "      let temp_source = null;\n",
              "      if (elem.is_local) {\n",
              "        let local_json = JSON.parse(elem.source);\n",
              "        temp_source = new carto.source.GeoJSON(local_json);\n",
              "      } else {\n",
              "        temp_source = new carto.source.SQL(elem.source);\n",
              "      }\n",
              "      let temp = new carto.Layer(\n",
              "          'layer' + idx,\n",
              "          temp_source,\n",
              "          new carto.Viz(elem['styling'])\n",
              "      );\n",
              "      var last_source = idx === 0 ? 'watername_ocean' : 'layer' + (idx - 1);\n",
              "      temp.addTo(map, last_source);\n",
              "      if (elem.interactivity) {\n",
              "        let interactivity = new carto.Interactivity(temp);\n",
              "        let tempPopup = new mapboxgl.Popup({\n",
              "                  closeButton: false,\n",
              "                  closeOnClick: false\n",
              "                });\n",
              "        if (elem.interactivity.event == 'click') {\n",
              "          setPopupsClick(tempPopup, interactivity, elem.interactivity.header);\n",
              "        } else if (elem.interactivity.event == 'hover') {\n",
              "          setPopupsHover(tempPopup, interactivity, elem.interactivity.header);\n",
              "        }\n",
              "      }\n",
              "    });\n",
              "    function setPopupsClick(tempPopup, intera, popupHeader) {\n",
              "      intera.off('featureHover', (event) => {\n",
              "          updatePopup(tempPopup, event, popupHeader)\n",
              "      });\n",
              "      intera.on('featureClick', (event) => {\n",
              "          updatePopup(tempPopup, event, popupHeader, popupHeader)\n",
              "      });\n",
              "    }\n",
              "    function setPopupsHover(tempPopup, intera, popupHeader) {\n",
              "      intera.off('featureClick', (event) => {\n",
              "          updatePopup(tempPopup, event, popupHeader)\n",
              "      });\n",
              "      intera.on('featureHover', (event) => {\n",
              "          updatePopup(tempPopup, event, popupHeader)\n",
              "      });\n",
              "    }\n",
              "    function updatePopup(layer_popup, event, popupHeader) {\n",
              "      if (event.features.length > 0) {\n",
              "        const vars = event.features[0].variables;\n",
              "        let popupHTML = popupHeader ? `<h1>${popupHeader}</h1>` : ``;\n",
              "        Object.keys(vars).forEach((varName) => {\n",
              "            popupHTML += `\n",
              "                <h3 class=&quot;h3&quot;>${varName}</h3>\n",
              "                <p class=&quot;description open-sans&quot;>${vars[varName].value}</p>\n",
              "            `;\n",
              "        });\n",
              "        layer_popup.setLngLat([event.coordinates.lng, event.coordinates.lat])\n",
              "             .setHTML(`<div>${popupHTML}</div>`);\n",
              "        if (!layer_popup.isOpen()) {\n",
              "          layer_popup.addTo(map);\n",
              "        }\n",
              "      } else {\n",
              "        layer_popup.remove();\n",
              "      }\n",
              "    }\n",
              "  </script>\n",
              "</body>\n",
              "</html>\n",
              "\" width=800 height=400></iframe>"
            ],
            "text/plain": [
              "<IPython.core.display.HTML object>"
            ]
          },
          "metadata": {
            "tags": []
          },
          "execution_count": 14
        }
      ]
    },
    {
      "metadata": {
        "id": "8Ar_n2XrO9Gx",
        "colab_type": "code",
        "colab": {}
      },
      "cell_type": "code",
      "source": [
        "vector.QueryLayer("
      ],
      "execution_count": 0,
      "outputs": []
    }
  ]
}