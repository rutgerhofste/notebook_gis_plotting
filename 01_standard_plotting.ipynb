{
  "nbformat": 4,
  "nbformat_minor": 0,
  "metadata": {
    "colab": {
      "name": "01_standard_plotting.ipynb",
      "version": "0.3.2",
      "provenance": [],
      "include_colab_link": true
    }
  },
  "cells": [
    {
      "cell_type": "markdown",
      "metadata": {
        "id": "view-in-github",
        "colab_type": "text"
      },
      "source": [
        "[View in Colaboratory](https://colab.research.google.com/github/rutgerhofste/notebook_gis_plotting/blob/master/01_standard_plotting.ipynb)"
      ]
    },
    {
      "metadata": {
        "id": "-FOvUtbsUlNB",
        "colab_type": "text"
      },
      "cell_type": "markdown",
      "source": [
        "Author: Rutger Hofste\n",
        "Date: 2018 07 02\n",
        "\n",
        "\n",
        "\n",
        "Exploring Geodataframes in Maps\n",
        "\n",
        "Pandas is the de facto package of choice for most data scientist working with python. Geopandas adds great geospatial components to the pandas framework while maintaining its simplicity. There is however one challenge with geopandas: Interactively exploring the data on a map. \n",
        "\n",
        "This repo explores several options to interactively visualize the data on a map. \n",
        "\n",
        "Sharing results with my team I've reverted back to saving the geodataframe as a shapefile and let them explore the results rlocally. There miust be a better way though that lives entirely inside the Jupyter Notebook environment. "
      ]
    },
    {
      "metadata": {
        "id": "jBcIx3UwVbOq",
        "colab_type": "code",
        "colab": {}
      },
      "cell_type": "code",
      "source": [
        "!pip install geopandas --quiet"
      ],
      "execution_count": 0,
      "outputs": []
    },
    {
      "metadata": {
        "id": "uCCJp48JVSfU",
        "colab_type": "code",
        "colab": {
          "base_uri": "https://localhost:8080/",
          "height": 37
        },
        "outputId": "cb8d7d5d-2e46-4863-dc0d-0c60dced72eb"
      },
      "cell_type": "code",
      "source": [
        "%matplotlib inline\n",
        "import geopandas as gpd"
      ],
      "execution_count": 2,
      "outputs": []
    },
    {
      "metadata": {
        "id": "e6dF7TIEVfxy",
        "colab_type": "code",
        "colab": {
          "base_uri": "https://localhost:8080/",
          "height": 37
        },
        "outputId": "bb6a830d-2da5-4ec7-f0a7-6defe5434969"
      },
      "cell_type": "code",
      "source": [
        "# load a sample geodataframe\n",
        "gdf = gpd.read_file(gpd.datasets.get_path('naturalearth_lowres'))"
      ],
      "execution_count": 3,
      "outputs": []
    },
    {
      "metadata": {
        "id": "0tVnSSkvVhlj",
        "colab_type": "code",
        "colab": {
          "base_uri": "https://localhost:8080/",
          "height": 34
        },
        "outputId": "0787191b-e966-44e4-c1ee-5c2e57a1fd41"
      },
      "cell_type": "code",
      "source": [
        "gdf.shape"
      ],
      "execution_count": 4,
      "outputs": [
        {
          "output_type": "execute_result",
          "data": {
            "text/plain": [
              "(177, 6)"
            ]
          },
          "metadata": {
            "tags": []
          },
          "execution_count": 4
        }
      ]
    },
    {
      "metadata": {
        "id": "5CvgDjjeVjXL",
        "colab_type": "code",
        "colab": {
          "base_uri": "https://localhost:8080/",
          "height": 204
        },
        "outputId": "6e537d1b-cab5-4931-ca30-b5bd9173501a"
      },
      "cell_type": "code",
      "source": [
        "gdf.head()"
      ],
      "execution_count": 5,
      "outputs": [
        {
          "output_type": "execute_result",
          "data": {
            "text/html": [
              "<div>\n",
              "<style scoped>\n",
              "    .dataframe tbody tr th:only-of-type {\n",
              "        vertical-align: middle;\n",
              "    }\n",
              "\n",
              "    .dataframe tbody tr th {\n",
              "        vertical-align: top;\n",
              "    }\n",
              "\n",
              "    .dataframe thead th {\n",
              "        text-align: right;\n",
              "    }\n",
              "</style>\n",
              "<table border=\"1\" class=\"dataframe\">\n",
              "  <thead>\n",
              "    <tr style=\"text-align: right;\">\n",
              "      <th></th>\n",
              "      <th>pop_est</th>\n",
              "      <th>continent</th>\n",
              "      <th>name</th>\n",
              "      <th>iso_a3</th>\n",
              "      <th>gdp_md_est</th>\n",
              "      <th>geometry</th>\n",
              "    </tr>\n",
              "  </thead>\n",
              "  <tbody>\n",
              "    <tr>\n",
              "      <th>0</th>\n",
              "      <td>28400000.0</td>\n",
              "      <td>Asia</td>\n",
              "      <td>Afghanistan</td>\n",
              "      <td>AFG</td>\n",
              "      <td>22270.0</td>\n",
              "      <td>POLYGON ((61.21081709172574 35.65007233330923,...</td>\n",
              "    </tr>\n",
              "    <tr>\n",
              "      <th>1</th>\n",
              "      <td>12799293.0</td>\n",
              "      <td>Africa</td>\n",
              "      <td>Angola</td>\n",
              "      <td>AGO</td>\n",
              "      <td>110300.0</td>\n",
              "      <td>(POLYGON ((16.32652835456705 -5.87747039146621...</td>\n",
              "    </tr>\n",
              "    <tr>\n",
              "      <th>2</th>\n",
              "      <td>3639453.0</td>\n",
              "      <td>Europe</td>\n",
              "      <td>Albania</td>\n",
              "      <td>ALB</td>\n",
              "      <td>21810.0</td>\n",
              "      <td>POLYGON ((20.59024743010491 41.85540416113361,...</td>\n",
              "    </tr>\n",
              "    <tr>\n",
              "      <th>3</th>\n",
              "      <td>4798491.0</td>\n",
              "      <td>Asia</td>\n",
              "      <td>United Arab Emirates</td>\n",
              "      <td>ARE</td>\n",
              "      <td>184300.0</td>\n",
              "      <td>POLYGON ((51.57951867046327 24.24549713795111,...</td>\n",
              "    </tr>\n",
              "    <tr>\n",
              "      <th>4</th>\n",
              "      <td>40913584.0</td>\n",
              "      <td>South America</td>\n",
              "      <td>Argentina</td>\n",
              "      <td>ARG</td>\n",
              "      <td>573900.0</td>\n",
              "      <td>(POLYGON ((-65.50000000000003 -55.199999999999...</td>\n",
              "    </tr>\n",
              "  </tbody>\n",
              "</table>\n",
              "</div>"
            ],
            "text/plain": [
              "      pop_est      continent                  name iso_a3  gdp_md_est  \\\n",
              "0  28400000.0           Asia           Afghanistan    AFG     22270.0   \n",
              "1  12799293.0         Africa                Angola    AGO    110300.0   \n",
              "2   3639453.0         Europe               Albania    ALB     21810.0   \n",
              "3   4798491.0           Asia  United Arab Emirates    ARE    184300.0   \n",
              "4  40913584.0  South America             Argentina    ARG    573900.0   \n",
              "\n",
              "                                            geometry  \n",
              "0  POLYGON ((61.21081709172574 35.65007233330923,...  \n",
              "1  (POLYGON ((16.32652835456705 -5.87747039146621...  \n",
              "2  POLYGON ((20.59024743010491 41.85540416113361,...  \n",
              "3  POLYGON ((51.57951867046327 24.24549713795111,...  \n",
              "4  (POLYGON ((-65.50000000000003 -55.199999999999...  "
            ]
          },
          "metadata": {
            "tags": []
          },
          "execution_count": 5
        }
      ]
    },
    {
      "metadata": {
        "id": "rdZG5pQ0Vj4b",
        "colab_type": "code",
        "colab": {
          "base_uri": "https://localhost:8080/",
          "height": 209
        },
        "outputId": "ccac5387-f003-4c98-b618-cfe9c58ce6eb"
      },
      "cell_type": "code",
      "source": [
        "gdf.plot(column='gdp_md_est',cmap='OrRd');"
      ],
      "execution_count": 6,
      "outputs": [
        {
          "output_type": "display_data",
          "data": {
            "image/png": "[encoded data removed]",
            "text/plain": [
              "<matplotlib.figure.Figure at 0x7f6c12e2a750>"
            ]
          },
          "metadata": {
            "tags": []
          }
        }
      ]
    },
    {
      "metadata": {
        "id": "k2378UIqVliT",
        "colab_type": "text"
      },
      "cell_type": "markdown",
      "source": [
        "The result is a static map with no tooltip. You can do much [more](http://geopandas.org/mapping.html) with the native plotting command but it's based on matplotlib and therefore not interactive. "
      ]
    },
    {
      "metadata": {
        "id": "3MLeZiKnVoa7",
        "colab_type": "code",
        "colab": {}
      },
      "cell_type": "code",
      "source": [
        ""
      ],
      "execution_count": 0,
      "outputs": []
    }
  ]
}