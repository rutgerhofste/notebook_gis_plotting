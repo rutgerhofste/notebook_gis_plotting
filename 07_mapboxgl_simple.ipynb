{
  "nbformat": 4,
  "nbformat_minor": 0,
  "metadata": {
    "colab": {
      "name": "07_mapboxgl_simple.ipynb",
      "version": "0.3.2",
      "provenance": [],
      "collapsed_sections": [],
      "include_colab_link": true
    },
    "kernelspec": {
      "name": "python3",
      "display_name": "Python 3"
    }
  },
  "cells": [
    {
      "cell_type": "markdown",
      "metadata": {
        "id": "view-in-github",
        "colab_type": "text"
      },
      "source": [
        "[View in Colaboratory](https://colab.research.google.com/github/rutgerhofste/notebook_gis_plotting/blob/master/07_mapboxgl_simple.ipynb)"
      ]
    },
    {
      "metadata": {
        "id": "1GwSUvxo5QB-",
        "colab_type": "text"
      },
      "cell_type": "markdown",
      "source": [
        "# Mapbox GL Chloropleth Example with custom data"
      ]
    },
    {
      "metadata": {
        "id": "ZrUdYUQ-qpTd",
        "colab_type": "code",
        "colab": {}
      },
      "cell_type": "code",
      "source": [
        "!pip install mapboxgl geopandas sqlalchemy psycopg2 --quiet"
      ],
      "execution_count": 0,
      "outputs": []
    },
    {
      "metadata": {
        "id": "HSPTv6MLrSEU",
        "colab_type": "code",
        "colab": {}
      },
      "cell_type": "code",
      "source": [
        "# public token from MapboxGL\n",
        "token = # copy from mapbox website\n",
        "os.environ[\"MAPBOX_ACCESS_TOKEN\"] = token"
      ],
      "execution_count": 0,
      "outputs": []
    },
    {
      "metadata": {
        "id": "Pa4DcUVh5Zy9",
        "colab_type": "code",
        "colab": {}
      },
      "cell_type": "code",
      "source": [
        "import os\n",
        "import getpass\n",
        "import sqlalchemy\n",
        "import psycopg2\n",
        "import mapboxgl\n",
        "import random\n",
        "import json\n",
        "import pandas as pd\n",
        "import geopandas as gpd"
      ],
      "execution_count": 0,
      "outputs": []
    },
    {
      "metadata": {
        "id": "5Ujf00qD_sBa",
        "colab_type": "code",
        "colab": {}
      },
      "cell_type": "code",
      "source": [
        "# Global Variables\n",
        "DATABASE_ENDPOINT = \"aqueduct30v05.cgpnumwmfcqc.eu-central-1.rds.amazonaws.com\"\n",
        "DATABASE_NAME = \"database01\"\n",
        "\n",
        "WS_VALUES_INPUT_TABLE = \"y2018m06d28_rh_ws_full_range_ols_postgis_30spfaf06_v01_v02\""
      ],
      "execution_count": 0,
      "outputs": []
    },
    {
      "metadata": {
        "id": "9DYGgLmN_w_5",
        "colab_type": "code",
        "colab": {
          "base_uri": "https://localhost:8080/",
          "height": 34
        },
        "outputId": "77b37cfe-6734-40cf-e284-f87418a43e96"
      },
      "cell_type": "code",
      "source": [
        "u = getpass.getpass(\"Type in your postgresql username: \")"
      ],
      "execution_count": 0,
      "outputs": [
        {
          "output_type": "stream",
          "text": [
            "Type in your postgresql username: ··········\n"
          ],
          "name": "stdout"
        }
      ]
    },
    {
      "metadata": {
        "id": "1FsxFQNA_wuy",
        "colab_type": "code",
        "colab": {
          "base_uri": "https://localhost:8080/",
          "height": 34
        },
        "outputId": "71c74edf-5a59-4e72-c70b-91997aa57a27"
      },
      "cell_type": "code",
      "source": [
        "p = getpass.getpass(\"Type in your postgresql password: \")"
      ],
      "execution_count": 0,
      "outputs": [
        {
          "output_type": "stream",
          "text": [
            "Type in your postgresql password: ··········\n"
          ],
          "name": "stdout"
        }
      ]
    },
    {
      "metadata": {
        "id": "BRPUuirE_3Fx",
        "colab_type": "code",
        "colab": {}
      },
      "cell_type": "code",
      "source": [
        "engine = sqlalchemy.create_engine(\"postgresql://{}:{}@{}:5432/{}\".format(u,p,DATABASE_ENDPOINT,DATABASE_NAME))"
      ],
      "execution_count": 0,
      "outputs": []
    },
    {
      "metadata": {
        "id": "HZme7tqI_5os",
        "colab_type": "code",
        "colab": {}
      },
      "cell_type": "code",
      "source": [
        "test_sql = \"SELECT * FROM y2018m06d28_rh_ws_full_range_ols_postgis_30spfaf06_v01_v02 WHERE temporal_resolution = 'year' AND year = 2014\""
      ],
      "execution_count": 0,
      "outputs": []
    },
    {
      "metadata": {
        "id": "ccgXHsxR_5cU",
        "colab_type": "code",
        "colab": {}
      },
      "cell_type": "code",
      "source": [
        "df = pd.read_sql(test_sql,engine)"
      ],
      "execution_count": 0,
      "outputs": []
    },
    {
      "metadata": {
        "id": "zesRrgld_9Ak",
        "colab_type": "code",
        "colab": {
          "base_uri": "https://localhost:8080/",
          "height": 253
        },
        "outputId": "804d76a5-06a5-41b2-b886-04c78fa1b4d9"
      },
      "cell_type": "code",
      "source": [
        "df.head()"
      ],
      "execution_count": 0,
      "outputs": [
        {
          "output_type": "execute_result",
          "data": {
            "text/html": [
              "<div>\n",
              "<style scoped>\n",
              "    .dataframe tbody tr th:only-of-type {\n",
              "        vertical-align: middle;\n",
              "    }\n",
              "\n",
              "    .dataframe tbody tr th {\n",
              "        vertical-align: top;\n",
              "    }\n",
              "\n",
              "    .dataframe thead th {\n",
              "        text-align: right;\n",
              "    }\n",
              "</style>\n",
              "<table border=\"1\" class=\"dataframe\">\n",
              "  <thead>\n",
              "    <tr style=\"text-align: right;\">\n",
              "      <th></th>\n",
              "      <th>pfafid_30spfaf06</th>\n",
              "      <th>temporal_resolution</th>\n",
              "      <th>year</th>\n",
              "      <th>month</th>\n",
              "      <th>area_m2_30spfaf06</th>\n",
              "      <th>area_count_30spfaf06</th>\n",
              "      <th>pdomww_m_30spfaf06</th>\n",
              "      <th>pdomwn_m_30spfaf06</th>\n",
              "      <th>pindww_m_30spfaf06</th>\n",
              "      <th>pindwn_m_30spfaf06</th>\n",
              "      <th>...</th>\n",
              "      <th>max_ma10_waterstress_dimensionless_30spfaf06</th>\n",
              "      <th>slope_ma10_waterstress_dimensionless_30spfaf06</th>\n",
              "      <th>intercept_ma10_waterstress_dimensionless_30spfaf06</th>\n",
              "      <th>ols_ma10_waterstress_dimensionless_30spfaf06</th>\n",
              "      <th>avg_ols10_waterstress_dimensionless_30spfaf06</th>\n",
              "      <th>min_ols10_waterstress_dimensionless_30spfaf06</th>\n",
              "      <th>max_ols10_waterstress_dimensionless_30spfaf06</th>\n",
              "      <th>slope_ols10_waterstress_dimensionless_30spfaf06</th>\n",
              "      <th>intercept_ols10_waterstress_dimensionless_30spfaf06</th>\n",
              "      <th>ols_ols10_waterstress_dimensionless_30spfaf06</th>\n",
              "    </tr>\n",
              "  </thead>\n",
              "  <tbody>\n",
              "    <tr>\n",
              "      <th>0</th>\n",
              "      <td>111011</td>\n",
              "      <td>year</td>\n",
              "      <td>2014</td>\n",
              "      <td>12</td>\n",
              "      <td>1.885917e+09</td>\n",
              "      <td>2536</td>\n",
              "      <td>0.005918</td>\n",
              "      <td>0.004587</td>\n",
              "      <td>0.025761</td>\n",
              "      <td>0.010304</td>\n",
              "      <td>...</td>\n",
              "      <td>2.146653</td>\n",
              "      <td>0.016313</td>\n",
              "      <td>-30.388371</td>\n",
              "      <td>2.466601</td>\n",
              "      <td>2.105324</td>\n",
              "      <td>2.146076</td>\n",
              "      <td>2.149802</td>\n",
              "      <td>0.008748</td>\n",
              "      <td>-15.281826</td>\n",
              "      <td>2.337153</td>\n",
              "    </tr>\n",
              "    <tr>\n",
              "      <th>1</th>\n",
              "      <td>111012</td>\n",
              "      <td>year</td>\n",
              "      <td>2014</td>\n",
              "      <td>12</td>\n",
              "      <td>2.925797e+09</td>\n",
              "      <td>3921</td>\n",
              "      <td>0.000053</td>\n",
              "      <td>0.000053</td>\n",
              "      <td>0.002746</td>\n",
              "      <td>0.001099</td>\n",
              "      <td>...</td>\n",
              "      <td>1.000000</td>\n",
              "      <td>0.000000</td>\n",
              "      <td>1.000000</td>\n",
              "      <td>1.000000</td>\n",
              "      <td>1.000000</td>\n",
              "      <td>1.000000</td>\n",
              "      <td>1.000000</td>\n",
              "      <td>0.000000</td>\n",
              "      <td>1.000000</td>\n",
              "      <td>1.000000</td>\n",
              "    </tr>\n",
              "    <tr>\n",
              "      <th>2</th>\n",
              "      <td>111013</td>\n",
              "      <td>year</td>\n",
              "      <td>2014</td>\n",
              "      <td>12</td>\n",
              "      <td>8.924229e+08</td>\n",
              "      <td>1194</td>\n",
              "      <td>0.000156</td>\n",
              "      <td>0.000156</td>\n",
              "      <td>0.008338</td>\n",
              "      <td>0.003335</td>\n",
              "      <td>...</td>\n",
              "      <td>1.000000</td>\n",
              "      <td>0.000000</td>\n",
              "      <td>1.000000</td>\n",
              "      <td>1.000000</td>\n",
              "      <td>1.000000</td>\n",
              "      <td>1.000000</td>\n",
              "      <td>1.000000</td>\n",
              "      <td>0.000000</td>\n",
              "      <td>1.000000</td>\n",
              "      <td>1.000000</td>\n",
              "    </tr>\n",
              "    <tr>\n",
              "      <th>3</th>\n",
              "      <td>111014</td>\n",
              "      <td>year</td>\n",
              "      <td>2014</td>\n",
              "      <td>12</td>\n",
              "      <td>4.206268e+09</td>\n",
              "      <td>5605</td>\n",
              "      <td>0.000031</td>\n",
              "      <td>0.000031</td>\n",
              "      <td>0.000216</td>\n",
              "      <td>0.000086</td>\n",
              "      <td>...</td>\n",
              "      <td>1.000000</td>\n",
              "      <td>0.000000</td>\n",
              "      <td>1.000000</td>\n",
              "      <td>1.000000</td>\n",
              "      <td>1.000000</td>\n",
              "      <td>1.000000</td>\n",
              "      <td>1.000000</td>\n",
              "      <td>0.000000</td>\n",
              "      <td>1.000000</td>\n",
              "      <td>1.000000</td>\n",
              "    </tr>\n",
              "    <tr>\n",
              "      <th>4</th>\n",
              "      <td>111015</td>\n",
              "      <td>year</td>\n",
              "      <td>2014</td>\n",
              "      <td>12</td>\n",
              "      <td>1.659706e+10</td>\n",
              "      <td>21873</td>\n",
              "      <td>0.000244</td>\n",
              "      <td>0.000215</td>\n",
              "      <td>0.006480</td>\n",
              "      <td>0.002592</td>\n",
              "      <td>...</td>\n",
              "      <td>1.000000</td>\n",
              "      <td>0.000000</td>\n",
              "      <td>1.000000</td>\n",
              "      <td>1.000000</td>\n",
              "      <td>1.000000</td>\n",
              "      <td>1.000000</td>\n",
              "      <td>1.000000</td>\n",
              "      <td>0.000000</td>\n",
              "      <td>1.000000</td>\n",
              "      <td>1.000000</td>\n",
              "    </tr>\n",
              "  </tbody>\n",
              "</table>\n",
              "<p>5 rows × 124 columns</p>\n",
              "</div>"
            ],
            "text/plain": [
              "   pfafid_30spfaf06 temporal_resolution  year  month  area_m2_30spfaf06  \\\n",
              "0            111011                year  2014     12       1.885917e+09   \n",
              "1            111012                year  2014     12       2.925797e+09   \n",
              "2            111013                year  2014     12       8.924229e+08   \n",
              "3            111014                year  2014     12       4.206268e+09   \n",
              "4            111015                year  2014     12       1.659706e+10   \n",
              "\n",
              "   area_count_30spfaf06  pdomww_m_30spfaf06  pdomwn_m_30spfaf06  \\\n",
              "0                  2536            0.005918            0.004587   \n",
              "1                  3921            0.000053            0.000053   \n",
              "2                  1194            0.000156            0.000156   \n",
              "3                  5605            0.000031            0.000031   \n",
              "4                 21873            0.000244            0.000215   \n",
              "\n",
              "   pindww_m_30spfaf06  pindwn_m_30spfaf06  \\\n",
              "0            0.025761            0.010304   \n",
              "1            0.002746            0.001099   \n",
              "2            0.008338            0.003335   \n",
              "3            0.000216            0.000086   \n",
              "4            0.006480            0.002592   \n",
              "\n",
              "                       ...                        \\\n",
              "0                      ...                         \n",
              "1                      ...                         \n",
              "2                      ...                         \n",
              "3                      ...                         \n",
              "4                      ...                         \n",
              "\n",
              "   max_ma10_waterstress_dimensionless_30spfaf06  \\\n",
              "0                                      2.146653   \n",
              "1                                      1.000000   \n",
              "2                                      1.000000   \n",
              "3                                      1.000000   \n",
              "4                                      1.000000   \n",
              "\n",
              "   slope_ma10_waterstress_dimensionless_30spfaf06  \\\n",
              "0                                        0.016313   \n",
              "1                                        0.000000   \n",
              "2                                        0.000000   \n",
              "3                                        0.000000   \n",
              "4                                        0.000000   \n",
              "\n",
              "   intercept_ma10_waterstress_dimensionless_30spfaf06  \\\n",
              "0                                         -30.388371    \n",
              "1                                           1.000000    \n",
              "2                                           1.000000    \n",
              "3                                           1.000000    \n",
              "4                                           1.000000    \n",
              "\n",
              "   ols_ma10_waterstress_dimensionless_30spfaf06  \\\n",
              "0                                      2.466601   \n",
              "1                                      1.000000   \n",
              "2                                      1.000000   \n",
              "3                                      1.000000   \n",
              "4                                      1.000000   \n",
              "\n",
              "   avg_ols10_waterstress_dimensionless_30spfaf06  \\\n",
              "0                                       2.105324   \n",
              "1                                       1.000000   \n",
              "2                                       1.000000   \n",
              "3                                       1.000000   \n",
              "4                                       1.000000   \n",
              "\n",
              "   min_ols10_waterstress_dimensionless_30spfaf06  \\\n",
              "0                                       2.146076   \n",
              "1                                       1.000000   \n",
              "2                                       1.000000   \n",
              "3                                       1.000000   \n",
              "4                                       1.000000   \n",
              "\n",
              "   max_ols10_waterstress_dimensionless_30spfaf06  \\\n",
              "0                                       2.149802   \n",
              "1                                       1.000000   \n",
              "2                                       1.000000   \n",
              "3                                       1.000000   \n",
              "4                                       1.000000   \n",
              "\n",
              "   slope_ols10_waterstress_dimensionless_30spfaf06  \\\n",
              "0                                         0.008748   \n",
              "1                                         0.000000   \n",
              "2                                         0.000000   \n",
              "3                                         0.000000   \n",
              "4                                         0.000000   \n",
              "\n",
              "   intercept_ols10_waterstress_dimensionless_30spfaf06  \\\n",
              "0                                         -15.281826     \n",
              "1                                           1.000000     \n",
              "2                                           1.000000     \n",
              "3                                           1.000000     \n",
              "4                                           1.000000     \n",
              "\n",
              "   ols_ols10_waterstress_dimensionless_30spfaf06  \n",
              "0                                       2.337153  \n",
              "1                                       1.000000  \n",
              "2                                       1.000000  \n",
              "3                                       1.000000  \n",
              "4                                       1.000000  \n",
              "\n",
              "[5 rows x 124 columns]"
            ]
          },
          "metadata": {
            "tags": []
          },
          "execution_count": 43
        }
      ]
    },
    {
      "metadata": {
        "id": "gjvATQwq_838",
        "colab_type": "code",
        "colab": {
          "base_uri": "https://localhost:8080/",
          "height": 34
        },
        "outputId": "1acea0aa-2102-429e-cf88-5b2533e30545"
      },
      "cell_type": "code",
      "source": [
        "df.shape"
      ],
      "execution_count": 0,
      "outputs": [
        {
          "output_type": "execute_result",
          "data": {
            "text/plain": [
              "(16385, 124)"
            ]
          },
          "metadata": {
            "tags": []
          },
          "execution_count": 44
        }
      ]
    },
    {
      "metadata": {
        "id": "wVXfJsdxzW5t",
        "colab_type": "code",
        "colab": {
          "base_uri": "https://localhost:8080/",
          "height": 54
        },
        "outputId": "09c80cce-dded-47ca-a46c-5652bcdbd56c"
      },
      "cell_type": "code",
      "source": [
        "os.environ"
      ],
      "execution_count": 0,
      "outputs": [
        {
          "output_type": "execute_result",
          "data": {
            "text/plain": [
              "environ({'LANG': 'en_US.UTF-8', 'DATALAB_DEBUG': 'true', 'SHELL': '/bin/bash', 'LD_PRELOAD': '/usr/lib/x86_64-linux-gnu/libtcmalloc.so.4', 'JPY_PARENT_PID': '67', 'SHLVL': '1', 'PYTHONPATH': '/env/python', 'OLDPWD': '/', 'HOSTNAME': '55a46eb6fd45', 'CLOUDSDK_CONFIG': '/content/datalab/.config', 'DATALAB_ENV': 'GCE', 'DATALAB_SETTINGS_OVERRIDES': '{\"datalabBasePath\":\"/tun/m/m-167t6un7q9i1z/\"}', 'PATH': '/usr/local/bin:/usr/local/sbin:/usr/local/bin:/usr/sbin:/usr/bin:/sbin:/bin:/tools/node/bin:/tools/google-cloud-sdk/bin:/opt/bin', 'PWD': '/', 'GLIBCPP_FORCE_NEW': '1', 'ENV': '/root/.bashrc', 'DEBIAN_FRONTEND': 'noninteractive', 'GLIBCXX_FORCE_NEW': '1', 'HOME': '/content', '_': '/tools/node/bin/forever', 'TERM': 'xterm-color', 'CLICOLOR': '1', 'PAGER': 'cat', 'GIT_PAGER': 'cat', 'MPLBACKEND': 'module://ipykernel.pylab.backend_inline', 'GDAL_DATA': '/usr/local/lib/python3.6/dist-packages/fiona/gdal_data', 'PROJ_LIB': '/usr/local/lib/python3.6/dist-packages/fiona/proj_data', 'MAPBOX_ACCESS_TOKEN': 'pk.eyJ1IjoicnV0Z2VyaG9mc3RlIiwiYSI6ImNqajVta3kyaTFsOWczcG0xMWVtcnNka3gifQ.gX8otM6rAooZaWK4dFab0A'})"
            ]
          },
          "metadata": {
            "tags": []
          },
          "execution_count": 27
        }
      ]
    },
    {
      "metadata": {
        "id": "V6TCp1hdAxnC",
        "colab_type": "code",
        "colab": {}
      },
      "cell_type": "code",
      "source": [
        "data_test = json.loads(df.to_json(orient='records'))"
      ],
      "execution_count": 0,
      "outputs": []
    },
    {
      "metadata": {
        "id": "g3RNMHsY8cSt",
        "colab_type": "code",
        "colab": {}
      },
      "cell_type": "code",
      "source": [
        "color_stops_test = mapboxgl.utils.create_color_stops([0, 3, 21873], colors='YlOrRd')"
      ],
      "execution_count": 0,
      "outputs": []
    },
    {
      "metadata": {
        "id": "-o7a07k80MZN",
        "colab_type": "code",
        "colab": {}
      },
      "cell_type": "code",
      "source": [
        "# Create the viz\n",
        "viz = mapboxgl.viz.ChoroplethViz(data = data_test, \n",
        "                                  vector_url='mapbox://rutgerhofste.hybas06_v04_V03',\n",
        "                                  vector_layer_name='hybas06_v04_V03',\n",
        "                                  vector_join_property='pfaf_id',\n",
        "                                  data_join_property=\"pfafid_30spfaf06\",\n",
        "                                  color_property=\"area_count_30spfaf06\",\n",
        "                                  color_stops=color_stops_test,\n",
        "                                  line_color = 'rgba(0,0,0,0.05)',\n",
        "                                  line_width = 0.5,\n",
        "                                  opacity=0.7,\n",
        "                                  center=(-95, 45),\n",
        "                                  zoom=2,\n",
        "                                  below_layer='waterway-label'\n",
        "                                  )\n",
        "viz.show()"
      ],
      "execution_count": 0,
      "outputs": []
    },
    {
      "metadata": {
        "id": "fNinO-PXBD2L",
        "colab_type": "code",
        "colab": {}
      },
      "cell_type": "code",
      "source": [
        ""
      ],
      "execution_count": 0,
      "outputs": []
    }
  ]
}